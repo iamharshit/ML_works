{
 "cells": [
  {
   "cell_type": "code",
   "execution_count": 1,
   "metadata": {
    "collapsed": true
   },
   "outputs": [],
   "source": [
    "import pprint\n",
    "import random"
   ]
  },
  {
   "cell_type": "code",
   "execution_count": 2,
   "metadata": {
    "collapsed": true
   },
   "outputs": [],
   "source": [
    "#Initialisation\n",
    "\n",
    "q = [[0,0,0,0,0,0], \n",
    "      [0,0,0,0,0,0], \n",
    "      [0,0,0,0,0,0], \n",
    "      [0,0,0,0,0,0],\n",
    "      [0,0,0,0,0,0],\n",
    "      [0,0,0,0,0,0]]\n",
    "\n",
    "r = [[-1,-1,-1,-1, 0, -1], \n",
    "     [-1,-1,-1, 0,-1,100], \n",
    "     [-1,-1,-1, 0,-1, -1], \n",
    "     [-1, 0, 0,-1, 0, -1],\n",
    "     [ 0,-1,-1, 0,-1,100],\n",
    "     [-1, 0,-1,-1, 0,100]]\n",
    "\n",
    "goal_state = 5\n",
    "current_state = None"
   ]
  },
  {
   "cell_type": "code",
   "execution_count": 3,
   "metadata": {
    "collapsed": true
   },
   "outputs": [],
   "source": [
    "#Util functions\n",
    "\n",
    "def max_q(state):\n",
    "\tpossibilities = []\n",
    "\t\n",
    "\tmax_val = None\n",
    "\tmax_action = None\n",
    "\tfor index, val in enumerate(q[state]):\n",
    "\t\tif r[state][index]!=-1:\n",
    "\t\t\tpossibilities.append(index)\n",
    "\t\t\t'''\n",
    "\t\t\tif max_action is None or max_val<val:\n",
    "\t\t\t\tmax_val = val\n",
    "\t\t\t\tmax_action = index\n",
    "\t\t\t'''\n",
    "\tind = random.choice(possibilities)\n",
    "\n",
    "\tval = q[state][ind]\n",
    "\treturn val, ind\n",
    "\t#return max_val, max_action\n",
    "\n",
    "def inc_q(state, action):\n",
    "\tgamma = 0.8\n",
    "\tq[state][action] = r[state][action]+gamma*max(q[action])\t\n",
    "\n",
    "def do_action(max_action):\n",
    "\tglobal current_state\n",
    "\tcurrent_state = max_action"
   ]
  },
  {
   "cell_type": "code",
   "execution_count": 4,
   "metadata": {},
   "outputs": [
    {
     "name": "stdout",
     "output_type": "stream",
     "text": [
      "Q matrix:\n",
      "[[0, 0, 0, 0, 80.0, 0],\n",
      " [0, 0, 0, 64.0, 0, 100.0],\n",
      " [0, 0, 0, 64.0, 0, 0],\n",
      " [0, 80.0, 51.2, 0, 80.0, 0],\n",
      " [64.0, 0, 0, 64.0, 0, 100.0],\n",
      " [0, 0, 0, 0, 0, 0]]\n"
     ]
    }
   ],
   "source": [
    "#Training\n",
    "\n",
    "def train():\n",
    "    epochs = 100\n",
    "\n",
    "    for epoch in range(epochs): \n",
    "        global current_state\n",
    "        current_state = random.choice([0,1,2,3,4,5])\n",
    "\n",
    "        while current_state != goal_state:\n",
    "            s = current_state\n",
    "            #1. Choose the best action\n",
    "            max_val, max_action = max_q(s)\n",
    "            #2. Do that Action\n",
    "            do_action(max_action)\n",
    "            #3. Update Q\n",
    "            inc_q(s, max_action)\n",
    "    \n",
    "    print 'Q matrix:'\n",
    "    pprint.pprint(q)\n",
    "    \n",
    "train()"
   ]
  },
  {
   "cell_type": "code",
   "execution_count": 5,
   "metadata": {},
   "outputs": [
    {
     "name": "stdout",
     "output_type": "stream",
     "text": [
      "Best Path:  2 --> 3 --> 1 --> 5 -->\n"
     ]
    }
   ],
   "source": [
    "#Testing\n",
    "\n",
    "def max_q(state):\n",
    "    max_val = None\n",
    "    max_action = None\n",
    "    for index, val in enumerate(q[state]):\n",
    "        if r[state][index]!=-1:\n",
    "            if max_action is None or max_val<val:\n",
    "                max_val = val\n",
    "                max_action = index\n",
    "    return max_val, max_action\n",
    "\n",
    "current_state = 2\n",
    "\n",
    "print 'Best Path: ',current_state,'-->',\n",
    "while current_state != goal_state:\n",
    "        max_val, max_action = max_q(current_state)\n",
    "        do_action(max_action)\n",
    "        print current_state,'-->',"
   ]
  }
 ],
 "metadata": {
  "kernelspec": {
   "display_name": "Python 2",
   "language": "python",
   "name": "python2"
  },
  "language_info": {
   "codemirror_mode": {
    "name": "ipython",
    "version": 2
   },
   "file_extension": ".py",
   "mimetype": "text/x-python",
   "name": "python",
   "nbconvert_exporter": "python",
   "pygments_lexer": "ipython2",
   "version": "2.7.6"
  }
 },
 "nbformat": 4,
 "nbformat_minor": 2
}
